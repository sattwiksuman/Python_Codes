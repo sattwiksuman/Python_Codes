{
 "cells": [
  {
   "cell_type": "markdown",
   "metadata": {},
   "source": [
    "<i>Questions are taken from https://www.youtube.com/playlist?list=PLFV6T8f5WU2FRO_Hu7q9b18yB1P98NSZd<i>"
   ]
  },
  {
   "cell_type": "markdown",
   "metadata": {},
   "source": [
    "## Question 1: find common letters in strings"
   ]
  },
  {
   "cell_type": "code",
   "execution_count": 18,
   "metadata": {},
   "outputs": [],
   "source": [
    "arr1 = 'NAINA'\n",
    "arr2= 'NEENA'"
   ]
  },
  {
   "cell_type": "code",
   "execution_count": 22,
   "metadata": {},
   "outputs": [
    {
     "name": "stdout",
     "output_type": "stream",
     "text": [
      "['A', 'N']\n"
     ]
    }
   ],
   "source": [
    "def common(arr1, arr2):\n",
    "    common = []\n",
    "    for l in set(arr1):\n",
    "        for ll in set(arr2):\n",
    "            if l==ll:\n",
    "                common.append(l)\n",
    "    return common\n",
    "print(common(arr1, arr2))"
   ]
  },
  {
   "cell_type": "markdown",
   "metadata": {},
   "source": [
    "## Question 2: count frequency of words in a string"
   ]
  },
  {
   "cell_type": "code",
   "execution_count": 23,
   "metadata": {},
   "outputs": [],
   "source": [
    "inp = 'Sheena loves eating apple and mangoes. My sister also loves eating Apples and Mangoes.'"
   ]
  },
  {
   "cell_type": "code",
   "execution_count": 32,
   "metadata": {},
   "outputs": [
    {
     "name": "stdout",
     "output_type": "stream",
     "text": [
      "{'sheena': 1, 'loves': 2, 'eating': 2, 'apple': 1, 'and': 2, 'mangoes': 2, 'my': 1, 'sister': 1, 'also': 1, 'apples': 1}\n"
     ]
    }
   ],
   "source": [
    "def freq_words(inp):\n",
    "    words = inp.split()\n",
    "    words = [w.lower() for w in words]\n",
    "    freq = {}\n",
    "    for word in words:\n",
    "        #handle full stops:\n",
    "        if word[-1]=='.':\n",
    "            word = word[:-1]\n",
    "        #count frequencies and store in dictionary\n",
    "        if word not in freq.keys():\n",
    "            freq[word]=1\n",
    "        else:\n",
    "            freq[word] +=1\n",
    "    return freq\n",
    "\n",
    "print(freq_words(inp))"
   ]
  },
  {
   "cell_type": "code",
   "execution_count": 45,
   "metadata": {},
   "outputs": [
    {
     "data": {
      "text/plain": [
       "dict_values([1, 2, 2, 1, 2, 2, 1, 1, 1, 1])"
      ]
     },
     "execution_count": 45,
     "metadata": {},
     "output_type": "execute_result"
    }
   ],
   "source": [
    "freq_words(inp).values()"
   ]
  },
  {
   "cell_type": "markdown",
   "metadata": {},
   "source": [
    "## Question 3: convert two lists into a dictionary mapping one list to another"
   ]
  },
  {
   "cell_type": "code",
   "execution_count": 36,
   "metadata": {},
   "outputs": [],
   "source": [
    "l1 = ['Naina', 'Kimi', 'Sheena']\n",
    "l2 = [85324, 33568, 87624]"
   ]
  },
  {
   "cell_type": "code",
   "execution_count": 38,
   "metadata": {},
   "outputs": [
    {
     "name": "stdout",
     "output_type": "stream",
     "text": [
      "{'Naina': 85324, 'Kimi': 33568, 'Sheena': 87624}\n"
     ]
    }
   ],
   "source": [
    "def dicty(l1, l2):\n",
    "    dicty={}\n",
    "    for i, item in enumerate(l1):\n",
    "        dicty[item] = l2[i]\n",
    "    return(dicty)\n",
    "\n",
    "print(dicty(l1, l2))"
   ]
  },
  {
   "cell_type": "markdown",
   "metadata": {},
   "source": [
    "## Question 4: find the missing number in a sequence"
   ]
  },
  {
   "cell_type": "code",
   "execution_count": 83,
   "metadata": {},
   "outputs": [],
   "source": [
    "seq = [3, 5, 7, 9, 11]    \n",
    "#if its a simple sequence we can use (n*(n+1)/2)-(sum of sequence)\n",
    "#but here we assume a general arithmetic sequence"
   ]
  },
  {
   "cell_type": "code",
   "execution_count": 85,
   "metadata": {},
   "outputs": [
    {
     "name": "stdout",
     "output_type": "stream",
     "text": [
      "No missing digit is found\n",
      "RESULT: \n",
      "missing item is None in position None\n"
     ]
    }
   ],
   "source": [
    "def missing(seq):\n",
    "    #find gap:\n",
    "    gap = {}\n",
    "    track = {}\n",
    "    br = 0\n",
    "    for i, item in enumerate(seq[1:]):\n",
    "        c = item - seq[i]\n",
    "        track[item] = c\n",
    "        if c not in gap.keys():\n",
    "            gap[c] = 1\n",
    "        else:\n",
    "            gap[c] += 1\n",
    "        if len(gap.keys())==2:\n",
    "            for key, num in zip(gap.keys(), gap.values()):\n",
    "                if num>1:\n",
    "                    norm_gap=key\n",
    "                    br = 1\n",
    "        if br==1:\n",
    "            break\n",
    "    if len(gap.keys())==2:    \n",
    "        for item in track.keys():\n",
    "            if track[item]!=norm_gap:\n",
    "                missing_item = item - norm_gap\n",
    "                for i in range(len(seq)):\n",
    "                    if seq[i] == item:\n",
    "                        pos = i+1\n",
    "                        break\n",
    "                found =1\n",
    "            if found ==1: break\n",
    "        return missing_item, pos\n",
    "    else:\n",
    "        print('No missing digit is found')\n",
    "        return None, None\n",
    "        \n",
    "\n",
    "missing_item, pos = missing(seq)\n",
    "\n",
    "print(f'RESULT: \\nmissing item is {missing_item} in position {pos}')"
   ]
  },
  {
   "cell_type": "code",
   "execution_count": null,
   "metadata": {},
   "outputs": [],
   "source": []
  }
 ],
 "metadata": {
  "kernelspec": {
   "display_name": "Python 3",
   "language": "python",
   "name": "python3"
  },
  "language_info": {
   "codemirror_mode": {
    "name": "ipython",
    "version": 3
   },
   "file_extension": ".py",
   "mimetype": "text/x-python",
   "name": "python",
   "nbconvert_exporter": "python",
   "pygments_lexer": "ipython3",
   "version": "3.8.5"
  }
 },
 "nbformat": 4,
 "nbformat_minor": 4
}
