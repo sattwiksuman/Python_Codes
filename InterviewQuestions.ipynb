{
  "nbformat": 4,
  "nbformat_minor": 0,
  "metadata": {
    "kernelspec": {
      "display_name": "Python 3",
      "language": "python",
      "name": "python3"
    },
    "language_info": {
      "codemirror_mode": {
        "name": "ipython",
        "version": 3
      },
      "file_extension": ".py",
      "mimetype": "text/x-python",
      "name": "python",
      "nbconvert_exporter": "python",
      "pygments_lexer": "ipython3",
      "version": "3.8.5"
    },
    "colab": {
      "name": "InterviewQuestions.ipynb",
      "provenance": [],
      "collapsed_sections": [],
      "include_colab_link": true
    }
  },
  "cells": [
    {
      "cell_type": "markdown",
      "metadata": {
        "id": "view-in-github",
        "colab_type": "text"
      },
      "source": [
        "<a href=\"https://colab.research.google.com/github/sattwiksuman/Python_Codes/blob/master/InterviewQuestions.ipynb\" target=\"_parent\"><img src=\"https://colab.research.google.com/assets/colab-badge.svg\" alt=\"Open In Colab\"/></a>"
      ]
    },
    {
      "cell_type": "markdown",
      "metadata": {
        "id": "EZV6wCxFeCnf"
      },
      "source": [
        "<i>Questions are taken from https://www.youtube.com/playlist?list=PLFV6T8f5WU2FRO_Hu7q9b18yB1P98NSZd<i>"
      ]
    },
    {
      "cell_type": "markdown",
      "metadata": {
        "id": "QBGxVENweCnh"
      },
      "source": [
        "## Question 1: find common letters in strings"
      ]
    },
    {
      "cell_type": "code",
      "metadata": {
        "id": "EpeMtmzPeCni"
      },
      "source": [
        "arr1 = 'NAINA'\n",
        "arr2= 'NEENA'"
      ],
      "execution_count": null,
      "outputs": []
    },
    {
      "cell_type": "code",
      "metadata": {
        "id": "CKGMSCb6eCnj",
        "outputId": "d8bc69bf-2a90-4d16-a768-d168b37c44ff"
      },
      "source": [
        "def common(arr1, arr2):\n",
        "    common = []\n",
        "    for l in set(arr1):\n",
        "        for ll in set(arr2):\n",
        "            if l==ll:\n",
        "                common.append(l)\n",
        "    return common\n",
        "print(common(arr1, arr2))"
      ],
      "execution_count": null,
      "outputs": [
        {
          "output_type": "stream",
          "text": [
            "['A', 'N']\n"
          ],
          "name": "stdout"
        }
      ]
    },
    {
      "cell_type": "markdown",
      "metadata": {
        "id": "Ph1pAp7ieCnk"
      },
      "source": [
        "## Question 2: count frequency of words in a string"
      ]
    },
    {
      "cell_type": "code",
      "metadata": {
        "id": "0BOMHgK2eCnl"
      },
      "source": [
        "inp = 'Sheena loves eating apple and mangoes. My sister also loves eating Apples and Mangoes.'"
      ],
      "execution_count": null,
      "outputs": []
    },
    {
      "cell_type": "code",
      "metadata": {
        "id": "V5N-C1SyeCnm",
        "outputId": "5610dffe-f044-4094-fa29-dbf77d6714ff"
      },
      "source": [
        "def freq_words(inp):\n",
        "    words = inp.split()\n",
        "    words = [w.lower() for w in words]\n",
        "    freq = {}\n",
        "    for word in words:\n",
        "        #handle full stops:\n",
        "        if word[-1]=='.':\n",
        "            word = word[:-1]\n",
        "        #count frequencies and store in dictionary\n",
        "        if word not in freq.keys():\n",
        "            freq[word]=1\n",
        "        else:\n",
        "            freq[word] +=1\n",
        "    return freq\n",
        "\n",
        "print(freq_words(inp))"
      ],
      "execution_count": null,
      "outputs": [
        {
          "output_type": "stream",
          "text": [
            "{'sheena': 1, 'loves': 2, 'eating': 2, 'apple': 1, 'and': 2, 'mangoes': 2, 'my': 1, 'sister': 1, 'also': 1, 'apples': 1}\n"
          ],
          "name": "stdout"
        }
      ]
    },
    {
      "cell_type": "code",
      "metadata": {
        "id": "268QVDjkeCnn",
        "outputId": "76181008-d378-49db-b475-48f36358cc97"
      },
      "source": [
        "freq_words(inp).values()"
      ],
      "execution_count": null,
      "outputs": [
        {
          "output_type": "execute_result",
          "data": {
            "text/plain": [
              "dict_values([1, 2, 2, 1, 2, 2, 1, 1, 1, 1])"
            ]
          },
          "metadata": {
            "tags": []
          },
          "execution_count": 45
        }
      ]
    },
    {
      "cell_type": "markdown",
      "metadata": {
        "id": "3C2Tp_9KeCno"
      },
      "source": [
        "## Question 3: convert two lists into a dictionary mapping one list to another"
      ]
    },
    {
      "cell_type": "code",
      "metadata": {
        "id": "LSlC0G4YeCnp"
      },
      "source": [
        "l1 = ['Naina', 'Kimi', 'Sheena']\n",
        "l2 = [85324, 33568, 87624]"
      ],
      "execution_count": null,
      "outputs": []
    },
    {
      "cell_type": "code",
      "metadata": {
        "id": "xT7FXC_teCnp",
        "outputId": "13adc0e5-d2c2-4484-84f3-38c719988163"
      },
      "source": [
        "def dicty(l1, l2):\n",
        "    dicty={}\n",
        "    for i, item in enumerate(l1):\n",
        "        dicty[item] = l2[i]\n",
        "    return(dicty)\n",
        "\n",
        "print(dicty(l1, l2))"
      ],
      "execution_count": null,
      "outputs": [
        {
          "output_type": "stream",
          "text": [
            "{'Naina': 85324, 'Kimi': 33568, 'Sheena': 87624}\n"
          ],
          "name": "stdout"
        }
      ]
    },
    {
      "cell_type": "markdown",
      "metadata": {
        "id": "ipSjeZMheCnq"
      },
      "source": [
        "## Question 4: find the missing number in a sequence"
      ]
    },
    {
      "cell_type": "code",
      "metadata": {
        "id": "esv1KweXeCnq"
      },
      "source": [
        "seq = [3, 5, 7, 9, 11]    \n",
        "#if its a simple sequence we can use (n*(n+1)/2)-(sum of sequence)\n",
        "#but here we assume a general arithmetic sequence"
      ],
      "execution_count": null,
      "outputs": []
    },
    {
      "cell_type": "code",
      "metadata": {
        "id": "sUV2OHdReCnq",
        "outputId": "6452c46e-a091-42d1-8132-723567a0c68b"
      },
      "source": [
        "def missing(seq):\n",
        "    #find gap:\n",
        "    gap = {}\n",
        "    track = {}\n",
        "    br = 0\n",
        "    for i, item in enumerate(seq[1:]):\n",
        "        c = item - seq[i]\n",
        "        track[item] = c\n",
        "        if c not in gap.keys():\n",
        "            gap[c] = 1\n",
        "        else:\n",
        "            gap[c] += 1\n",
        "        if len(gap.keys())==2:\n",
        "            for key, num in zip(gap.keys(), gap.values()):\n",
        "                if num>1:\n",
        "                    norm_gap=key\n",
        "                    br = 1\n",
        "        if br==1:\n",
        "            break\n",
        "    if len(gap.keys())==2:    \n",
        "        for item in track.keys():\n",
        "            if track[item]!=norm_gap:\n",
        "                missing_item = item - norm_gap\n",
        "                for i in range(len(seq)):\n",
        "                    if seq[i] == item:\n",
        "                        pos = i+1\n",
        "                        break\n",
        "                found =1\n",
        "            if found ==1: break\n",
        "        return missing_item, pos\n",
        "    else:\n",
        "        print('No missing digit is found')\n",
        "        return None, None\n",
        "        \n",
        "\n",
        "missing_item, pos = missing(seq)\n",
        "\n",
        "print(f'RESULT: \\nmissing item is {missing_item} in position {pos}')"
      ],
      "execution_count": null,
      "outputs": [
        {
          "output_type": "stream",
          "text": [
            "No missing digit is found\n",
            "RESULT: \n",
            "missing item is None in position None\n"
          ],
          "name": "stdout"
        }
      ]
    },
    {
      "cell_type": "markdown",
      "metadata": {
        "id": "KDz2PyGxeMI_"
      },
      "source": [
        "## Question 5: Find pairs with given sum"
      ]
    },
    {
      "cell_type": "code",
      "metadata": {
        "id": "svZaq86weCnr"
      },
      "source": [
        "#arr = [5 ,7, 4, 3, 9, 8, 19, 21]\n",
        "#sum = 17"
      ],
      "execution_count": null,
      "outputs": []
    },
    {
      "cell_type": "code",
      "metadata": {
        "colab": {
          "base_uri": "https://localhost:8080/"
        },
        "id": "7ZE4A3a_eZVW",
        "outputId": "93b034a0-9070-4920-939a-28fe2359334a"
      },
      "source": [
        "%%time\n",
        "arr = [5 ,7, 4, 3, 9, 8, 19, 21, 10]\n",
        "sum = 17\n",
        "def find_pair(arr, sum):\n",
        "    pair=[]\n",
        "    cnt = 0\n",
        "    for i, item1 in enumerate(arr):\n",
        "        for item2 in arr[i+1:]:\n",
        "            cnt +=1\n",
        "            if item1+item2==sum:\n",
        "                pair.append([item1, item2])\n",
        "                break\n",
        "    return pair, cnt\n",
        "\n",
        "pairs, cnt = find_pair(arr, sum)\n",
        "print(f'pairs found = {pairs}')\n",
        "print(f'no. of steps = {cnt}')"
      ],
      "execution_count": null,
      "outputs": [
        {
          "output_type": "stream",
          "text": [
            "pairs found = [[7, 10], [9, 8]]\n",
            "no. of steps = 33\n",
            "CPU times: user 292 µs, sys: 0 ns, total: 292 µs\n",
            "Wall time: 259 µs\n"
          ],
          "name": "stdout"
        }
      ]
    },
    {
      "cell_type": "markdown",
      "metadata": {
        "id": "0cTZuZdSgdu0"
      },
      "source": [
        "### Better solution available online uses a different algo:\n",
        "Pseudo_code:\n",
        "1. sort array\n",
        "2. left ==arr[0] and right ==arr[-1]\n",
        "3. current_sum= left+right:\n",
        "4. if current_sum > sum: right=arr[-2]\n",
        "5. if current_sum < sum: left=arr[1]\n",
        "6. continue till left + right == sum\n",
        "\n",
        "The below code is written such that multiple pairs can also be found"
      ]
    },
    {
      "cell_type": "code",
      "metadata": {
        "colab": {
          "base_uri": "https://localhost:8080/"
        },
        "id": "eKD2Lu9lfKUE",
        "outputId": "de695c5b-0f8e-47a9-a29b-05384ae43d68"
      },
      "source": [
        "%%time\n",
        "arr = [5 ,7, 4, 3, 9, 8, 19, 21, 10]\n",
        "sum = 17\n",
        "def find_pair_fast(arr, sum):\n",
        "    arr.sort()\n",
        "    li=0\n",
        "    ri=-1\n",
        "    print(abs(ri))\n",
        "    left = arr[li]\n",
        "    right = arr[ri]\n",
        "    current_sum = left + right\n",
        "    cnt=0\n",
        "    pairs =[]\n",
        "    while abs(li)+abs(ri)<len(arr):\n",
        "        if current_sum>sum:\n",
        "            ri = ri-1\n",
        "            right = arr[ri]\n",
        "            current_sum = left + right\n",
        "            cnt+=1\n",
        "        elif current_sum<sum:\n",
        "            li = li+1\n",
        "            left = arr[li]\n",
        "            current_sum = left + right\n",
        "            cnt+=1\n",
        "        elif current_sum == sum:\n",
        "            pairs.append([left, right])\n",
        "            li = li+1\n",
        "            left = arr[li]\n",
        "            current_sum = left + right\n",
        "            cnt+=1\n",
        "    return pairs, cnt\n",
        "\n",
        "pairss, cntss = find_pair_fast(arr, sum)\n",
        "print(f'pairs found = {pairss}')\n",
        "print(f'no. of steps = {cntss}')"
      ],
      "execution_count": null,
      "outputs": [
        {
          "output_type": "stream",
          "text": [
            "1\n",
            "pairs found = [[7, 10], [8, 9]]\n",
            "no. of steps = 8\n",
            "CPU times: user 1.06 ms, sys: 0 ns, total: 1.06 ms\n",
            "Wall time: 1.07 ms\n"
          ],
          "name": "stdout"
        }
      ]
    },
    {
      "cell_type": "markdown",
      "metadata": {
        "id": "snmoVZQFEJpL"
      },
      "source": [
        "## Question 6: Find the depth of a tree"
      ]
    },
    {
      "cell_type": "markdown",
      "metadata": {
        "id": "TYvxZsm6EP-v"
      },
      "source": [
        "![image.png](data:image/png;base64,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)"
      ]
    },
    {
      "cell_type": "code",
      "metadata": {
        "colab": {
          "base_uri": "https://localhost:8080/"
        },
        "id": "z1zMPnt7PvJ5",
        "outputId": "8267fe57-3907-4f3a-9438-db8e1447e51a"
      },
      "source": [
        "!pip install pptree"
      ],
      "execution_count": null,
      "outputs": [
        {
          "output_type": "stream",
          "text": [
            "Collecting pptree\n",
            "  Downloading pptree-3.1.tar.gz (3.0 kB)\n",
            "Building wheels for collected packages: pptree\n",
            "  Building wheel for pptree (setup.py) ... \u001b[?25l\u001b[?25hdone\n",
            "  Created wheel for pptree: filename=pptree-3.1-py3-none-any.whl size=4628 sha256=02f70b5241c96df9089a332631a4d22ed14179398c6fee59a23e7e4746446e4e\n",
            "  Stored in directory: /root/.cache/pip/wheels/9e/e8/7d/a9c3c19b4722608a0d8b05a38c36bc3f230c43becd2a46794b\n",
            "Successfully built pptree\n",
            "Installing collected packages: pptree\n",
            "Successfully installed pptree-3.1\n"
          ],
          "name": "stdout"
        }
      ]
    },
    {
      "cell_type": "code",
      "metadata": {
        "colab": {
          "base_uri": "https://localhost:8080/"
        },
        "id": "WinaLtrFENLw",
        "outputId": "9c7825fa-032a-424e-a8d5-40d5579e07e2"
      },
      "source": [
        "class Node:\n",
        "    def __init__(self, key):\n",
        "        self.data = key\n",
        "        self.left = None\n",
        "        self.right = None\n",
        "\n",
        "def depth(root):\n",
        "    if root == None:\n",
        "        return 0\n",
        "    else:\n",
        "        print(f'now at node {root.data}')\n",
        "        ldep = 1\n",
        "        rdep = 1\n",
        "        cnt=0\n",
        "        ldep += depth(root.left)\n",
        "        rdep += depth(root.right)\n",
        "        '''\n",
        "        if root.left == root.right == None:\n",
        "            return 1\n",
        "        elif root.left!=None and root.right!=None:\n",
        "            ldep += depth(root.left)\n",
        "            rdep += depth(root.right)\n",
        "        elif root.left!=None and root.right==None:\n",
        "            ldep += depth(root.left)\n",
        "        elif root.left==None and root.right!=None:\n",
        "            rdep += depth(root.right)\n",
        "        '''\n",
        "        if ldep>=rdep:\n",
        "            return ldep\n",
        "        if ldep<rdep:\n",
        "            return rdep\n",
        "\n",
        "root = Node(15)\n",
        "root.left = Node(11)\n",
        "root.right = Node(26)\n",
        "root.left.left = Node(8)\n",
        "root.left.right = Node(12)\n",
        "root.right.left = Node(20)\n",
        "root.right.right = Node(30)\n",
        "root.left.left.left = Node(6)\n",
        "root.left.left.right = Node(9)\n",
        "root.left.right.right = Node(14)\n",
        "root.right.right.right = Node(35)\n",
        "\n",
        "dep = depth(root)\n",
        "\n",
        "print(f'depth of tree = {dep}') \n",
        "\n",
        "from ppbtree import *\n",
        "print_tree(root, nameattr='data')"
      ],
      "execution_count": null,
      "outputs": [
        {
          "output_type": "stream",
          "text": [
            "now at node 15\n",
            "now at node 11\n",
            "now at node 8\n",
            "now at node 6\n",
            "now at node 9\n",
            "now at node 12\n",
            "now at node 14\n",
            "now at node 26\n",
            "now at node 20\n",
            "now at node 30\n",
            "now at node 35\n",
            "depth of tree = 4\n",
            "        ┌6\n",
            "      ┌8┤\n",
            "      | └9\n",
            "   ┌11┤\n",
            "   |  └12┐\n",
            "   |     └14\n",
            " 15┤\n",
            "   |  ┌20\n",
            "   └26┤\n",
            "      └30┐\n",
            "         └35\n"
          ],
          "name": "stdout"
        }
      ]
    },
    {
      "cell_type": "code",
      "metadata": {
        "colab": {
          "base_uri": "https://localhost:8080/"
        },
        "id": "07nQ0-ofKbDt",
        "outputId": "b5e6b08d-173e-4058-8c74-ba68e3b522bc"
      },
      "source": [
        "#traverse through tree:\n",
        "def traverse_tree(root: Node):\n",
        "    if root:\n",
        "        print(root.data)\n",
        "        tree = []\n",
        "        tree.append(root.data)\n",
        "        if root.left:\n",
        "            try:\n",
        "                tree = tree + traverse_tree(root.left)\n",
        "            except: tree =  tree\n",
        "        if root.right:\n",
        "            try:\n",
        "                tree = tree + traverse_tree(root.right)\n",
        "            except: tree = tree\n",
        "\n",
        "traverse_tree(root)        "
      ],
      "execution_count": null,
      "outputs": [
        {
          "output_type": "stream",
          "text": [
            "15\n",
            "11\n",
            "8\n",
            "6\n",
            "9\n",
            "12\n",
            "14\n",
            "26\n",
            "20\n",
            "30\n",
            "35\n"
          ],
          "name": "stdout"
        }
      ]
    },
    {
      "cell_type": "markdown",
      "metadata": {
        "id": "M5vyYmvzxEd1"
      },
      "source": [
        "## Question 7: Postfix expression using stack\n",
        "From a given array['2', '1', '+', '3', '*'] if operand is encountered push into stack and if operator is encountered pop top two elements in the stack, use the operator and then push the result into the stack. print the result."
      ]
    },
    {
      "cell_type": "code",
      "metadata": {
        "colab": {
          "base_uri": "https://localhost:8080/"
        },
        "id": "kXovv-sYTwEU",
        "outputId": "0cc83256-dee2-46f9-fa5f-41db5a5de797"
      },
      "source": [
        "arr = ['2', '1', '+', '3', '*']\n",
        "\n",
        "def postfix(arr):\n",
        "    stack =[]\n",
        "    operators = ['+', '-', '*', '/']\n",
        "    for item in arr:\n",
        "        if item not in operators:\n",
        "            stack.append(item)\n",
        "        elif item in operators:\n",
        "            x=stack.pop()\n",
        "            y=stack.pop()\n",
        "            ans = eval(x+item+y)\n",
        "            stack.append(str(ans))\n",
        "        print(item, '--->', stack)\n",
        "    if arr[-1] in operators:\n",
        "        return stack\n",
        "    else: \n",
        "        print('last element of given array must be operator to generate a valid solution')\n",
        "        return None\n",
        "\n",
        "print(F'answer = {postfix(arr).pop()}')\n",
        "            "
      ],
      "execution_count": null,
      "outputs": [
        {
          "output_type": "stream",
          "text": [
            "2 ---> ['2']\n",
            "1 ---> ['2', '1']\n",
            "+ ---> ['3']\n",
            "3 ---> ['3', '3']\n",
            "* ---> ['9']\n",
            "answer = 9\n"
          ],
          "name": "stdout"
        }
      ]
    },
    {
      "cell_type": "markdown",
      "metadata": {
        "id": "F1k2oqYb0KGb"
      },
      "source": [
        "## Question 8: length of last word in a sentence"
      ]
    },
    {
      "cell_type": "code",
      "metadata": {
        "id": "trTJXs4g1C3f",
        "colab": {
          "base_uri": "https://localhost:8080/"
        },
        "outputId": "2e1e78ad-bb63-473f-a828-f8afeac3b2df"
      },
      "source": [
        "sentence = 'Hello NetsetOS'\n",
        "def len_last_word(sentence):\n",
        "    words = sentence.split()\n",
        "    return len(words[-1])\n",
        "\n",
        "print(f'length of last word = {len_last_word(sentence)}')"
      ],
      "execution_count": 2,
      "outputs": [
        {
          "output_type": "stream",
          "text": [
            "length of last word = 8\n"
          ],
          "name": "stdout"
        }
      ]
    },
    {
      "cell_type": "markdown",
      "metadata": {
        "id": "C6E_GZyT0u1G"
      },
      "source": [
        "## Question 9: remove duplicates from sorted array"
      ]
    },
    {
      "cell_type": "code",
      "metadata": {
        "colab": {
          "base_uri": "https://localhost:8080/"
        },
        "id": "xcoRcbWQ0R1K",
        "outputId": "fe03068c-dd8b-4ab3-e431-54707bef25d3"
      },
      "source": [
        "arr = [1, 1, 1, 2, 2, 3, 3, 3, 4, 4, 5, 5]\n",
        "\n",
        "def remove_duplicates(arr):\n",
        "    arr.sort()\n",
        "    arr_set = set(arr)\n",
        "    no_dup = []\n",
        "    for item in arr_set:\n",
        "        no_dup.append(item)\n",
        "    return no_dup\n",
        "\n",
        "print(f'array witout duplicates in {remove_duplicates(arr)}')"
      ],
      "execution_count": 3,
      "outputs": [
        {
          "output_type": "stream",
          "text": [
            "array witout duplicates in [1, 2, 3, 4, 5]\n"
          ],
          "name": "stdout"
        }
      ]
    },
    {
      "cell_type": "markdown",
      "metadata": {
        "id": "R_6kzmjc2WC9"
      },
      "source": [
        "## Question 10: find maximum sum subarray (Kadane's Algorithm)"
      ]
    },
    {
      "cell_type": "code",
      "metadata": {
        "colab": {
          "base_uri": "https://localhost:8080/"
        },
        "id": "cSo7dQaN1NvX",
        "outputId": "cdc34d0e-7136-43d9-b56e-d915bd64d203"
      },
      "source": [
        "arr =[4, -3, -2, 2, 3, 1, -2, -3, 6, -6, -4, 2, 1]\n",
        "\n",
        "def max_sum_subarray(arr):\n",
        "    curr_sum = 0\n",
        "    max_sum = 0\n",
        "    for item in arr:\n",
        "        curr_sum = curr_sum + item\n",
        "        if curr_sum > max_sum:\n",
        "            max_sum = curr_sum\n",
        "        if curr_sum < 0:\n",
        "            curr_sum = 0\n",
        "    return max_sum\n",
        "\n",
        "print(f'maximum sum of sub array = {max_sum_subarray(arr)}')"
      ],
      "execution_count": 4,
      "outputs": [
        {
          "output_type": "stream",
          "text": [
            "maximum sum of sub array = 7\n"
          ],
          "name": "stdout"
        }
      ]
    },
    {
      "cell_type": "markdown",
      "metadata": {
        "id": "FkUDaQUU3txa"
      },
      "source": [
        "## Question 11: Find index of groups of strings that are anagrams"
      ]
    },
    {
      "cell_type": "code",
      "metadata": {
        "colab": {
          "base_uri": "https://localhost:8080/"
        },
        "id": "wNkpFISs3O2C",
        "outputId": "7facc92c-e298-4987-80d7-4e8bb87315af"
      },
      "source": [
        "arr = ['cat', 'dog', 'god', 'tca', 'act']\n",
        "\n",
        "def anagram_index(arr):\n",
        "    anagram = {}\n",
        "    for i, item in enumerate(arr):\n",
        "        an = ''\n",
        "        for c in sorted(item):\n",
        "            an = an + c\n",
        "        print(item, an)\n",
        "        if an not in anagram.keys():\n",
        "            anagram[an] = []\n",
        "            anagram[an].append(i)\n",
        "        elif an in anagram.keys():\n",
        "            anagram[an].append(i)\n",
        "    return anagram\n",
        "\n",
        "print(f'index of anagrams = {anagram_index(arr)}')        \n",
        "        "
      ],
      "execution_count": 36,
      "outputs": [
        {
          "output_type": "stream",
          "text": [
            "cat act\n",
            "dog dgo\n",
            "god dgo\n",
            "tca act\n",
            "act act\n",
            "index of anagrams = {'act': [0, 3, 4], 'dgo': [1, 2]}\n"
          ],
          "name": "stdout"
        }
      ]
    },
    {
      "cell_type": "markdown",
      "metadata": {
        "id": "dmiRMIT0QDGc"
      },
      "source": [
        "## Question 12: First non repeating character in a string"
      ]
    },
    {
      "cell_type": "code",
      "metadata": {
        "colab": {
          "base_uri": "https://localhost:8080/"
        },
        "id": "IbEf9WU84Go6",
        "outputId": "4f6b22c2-56cf-48cc-c330-0ca341d8c72d"
      },
      "source": [
        "string = 'NETSETOSNETM'\n",
        "\n",
        "def first_non_repeat(string):\n",
        "    chars = {}\n",
        "    for i, char1 in enumerate(string):\n",
        "        if char1 not in chars.keys():\n",
        "            chars[char1]=1\n",
        "            for char2 in string[i+1:]:\n",
        "                if char1 == char2:\n",
        "                    chars[char1] +=1\n",
        "    print(chars)\n",
        "    for key, value in zip(chars.keys(), chars.values()):\n",
        "        if value==1:\n",
        "            return key\n",
        "            break\n",
        "\n",
        "print(f'first non repeating character = {first_non_repeat(string)}')"
      ],
      "execution_count": 44,
      "outputs": [
        {
          "output_type": "stream",
          "text": [
            "{'N': 2, 'E': 3, 'T': 3, 'S': 2, 'O': 1, 'M': 1}\n",
            "first non repeating character = O\n"
          ],
          "name": "stdout"
        }
      ]
    },
    {
      "cell_type": "markdown",
      "metadata": {
        "id": "e_f9yOGMVpn6"
      },
      "source": [
        "## Question 13: Reverse words in a sentence"
      ]
    },
    {
      "cell_type": "code",
      "metadata": {
        "colab": {
          "base_uri": "https://localhost:8080/"
        },
        "id": "UiDrlsToR35p",
        "outputId": "45db977e-ad83-4fc1-9635-499a82f6756a"
      },
      "source": [
        "sentence = 'NetsetOS is an online platform'\n",
        "\n",
        "def rev_sentence(sentence):\n",
        "    sentence = sentence.split()\n",
        "    reverse_sentence =''\n",
        "    for word in sentence[-1::-1]:\n",
        "        reverse_sentence = reverse_sentence + word + ' '\n",
        "    return reverse_sentence\n",
        "\n",
        "print(f'The sentence printed in reverse is \"{rev_sentence(sentence)}\"') "
      ],
      "execution_count": 47,
      "outputs": [
        {
          "output_type": "stream",
          "text": [
            "The sentence printed in reverse is \"platform online an is NetsetOS \"\n"
          ],
          "name": "stdout"
        }
      ]
    },
    {
      "cell_type": "code",
      "metadata": {
        "id": "Vgh1OYX9WPSr"
      },
      "source": [
        ""
      ],
      "execution_count": null,
      "outputs": []
    }
  ]
}